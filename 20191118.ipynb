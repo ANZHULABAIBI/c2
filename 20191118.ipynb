{
 "cells": [
  {
   "cell_type": "code",
   "execution_count": 62,
   "metadata": {},
   "outputs": [],
   "source": [
    "import pandas as pd\n",
    "import numpy as np\n",
    "from sklearn import svm"
   ]
  },
  {
   "cell_type": "code",
   "execution_count": 43,
   "metadata": {},
   "outputs": [],
   "source": [
    "dat_train = pd.read_csv(r'D:\\study\\parttime\\20191118\\train.csv',header=None)\n",
    "dat_test = pd.read_csv(r'D:\\study\\parttime\\20191118\\test.csv',header=None)"
   ]
  },
  {
   "cell_type": "code",
   "execution_count": 44,
   "metadata": {},
   "outputs": [],
   "source": [
    "# 性别、婚姻状况、年龄、教育程度、职业、工作年限、双收入、家庭成员、18岁以下、户主状况、家庭类型、民族类别、语言。\n",
    "dat_train.columns=['gender','marriage','age','edu','profession','yr_job','income','family','under_18','condition','family_type','nationality','language','label']\n",
    "dat_test.columns=['gender','marriage','age','edu','profession','yr_job','income','family','under_18','condition','family_type','nationality','language']"
   ]
  },
  {
   "cell_type": "code",
   "execution_count": 45,
   "metadata": {},
   "outputs": [
    {
     "data": {
      "text/plain": [
       "[1.546983597442313,\n",
       " 3.0443690829447507,\n",
       " 3.416319154851265,\n",
       " 3.8428952167204375,\n",
       " 3.8011010728402033,\n",
       " 4.1860823946921775,\n",
       " 1.542535446205171,\n",
       " 2.8459976798143853,\n",
       " 0.6570753405615791,\n",
       " 1.842661336379212,\n",
       " 1.8647944412275623,\n",
       " 5.954883004063332,\n",
       " 1.1291395516992047,\n",
       " 4.902835696413678]"
      ]
     },
     "execution_count": 45,
     "metadata": {},
     "output_type": "execute_result"
    }
   ],
   "source": [
    "list(np.mean(dat_train))"
   ]
  },
  {
   "cell_type": "code",
   "execution_count": 46,
   "metadata": {
    "scrolled": true
   },
   "outputs": [],
   "source": [
    "dat_train_mean = dict(zip(dat_train.columns.tolist()[0:-1],list(np.mean(dat_train))))\n",
    "dat_test_mean = dict(zip(dat_test.columns.tolist(),list(np.mean(dat_test))))"
   ]
  },
  {
   "cell_type": "code",
   "execution_count": 47,
   "metadata": {},
   "outputs": [],
   "source": [
    "dat_train = dat_train.fillna(value = dat_train_mean)\n",
    "dat_test = dat_test.fillna(value = dat_test_mean)"
   ]
  },
  {
   "cell_type": "code",
   "execution_count": 50,
   "metadata": {},
   "outputs": [],
   "source": [
    "dat_train.to_excel(r'D:\\study\\parttime\\20191118\\dat_train.xlsx',index=False,sheet_name='Sheet1')\n",
    "dat_test.to_excel(r'D:\\study\\parttime\\20191118\\dat_test.xlsx',index=False,sheet_name='Sheet1')"
   ]
  },
  {
   "cell_type": "code",
   "execution_count": 76,
   "metadata": {
    "scrolled": true
   },
   "outputs": [],
   "source": [
    "train_data = dat_train.iloc[:,0:13]\n",
    "train_target = dat_train.iloc[:,13]"
   ]
  },
  {
   "cell_type": "code",
   "execution_count": 77,
   "metadata": {},
   "outputs": [],
   "source": [
    "train_data2 = np.array(train_data)\n",
    "train_target2 = np.array(train_target)"
   ]
  },
  {
   "cell_type": "code",
   "execution_count": 78,
   "metadata": {},
   "outputs": [],
   "source": [
    "test_data = np.array(dat_test)"
   ]
  },
  {
   "cell_type": "code",
   "execution_count": 79,
   "metadata": {},
   "outputs": [
    {
     "name": "stderr",
     "output_type": "stream",
     "text": [
      "D:\\program files\\anaconda3\\lib\\site-packages\\sklearn\\svm\\base.py:196: FutureWarning: The default value of gamma will change from 'auto' to 'scale' in version 0.22 to account better for unscaled features. Set gamma explicitly to 'auto' or 'scale' to avoid this warning.\n",
      "  \"avoid this warning.\", FutureWarning)\n"
     ]
    },
    {
     "data": {
      "text/plain": [
       "SVC(C=1.0, cache_size=200, class_weight=None, coef0=0.0,\n",
       "  decision_function_shape='ovr', degree=3, gamma='auto_deprecated',\n",
       "  kernel='rbf', max_iter=-1, probability=False, random_state=None,\n",
       "  shrinking=True, tol=0.001, verbose=False)"
      ]
     },
     "execution_count": 79,
     "metadata": {},
     "output_type": "execute_result"
    }
   ],
   "source": [
    "clf = svm.SVC()  # 创建模型，参数均使用默认值\n",
    "clf.fit(train_data2, train_target2)  # 训练模型"
   ]
  },
  {
   "cell_type": "code",
   "execution_count": 80,
   "metadata": {},
   "outputs": [
    {
     "name": "stdout",
     "output_type": "stream",
     "text": [
      "[3 2 3 ... 8 8 2]\n"
     ]
    }
   ],
   "source": [
    "result = clf.predict(test_data)  # 使用模型预测值\n",
    "print(result)  # 输出预测值[-1. -1.  1.  1.]"
   ]
  },
  {
   "cell_type": "code",
   "execution_count": 83,
   "metadata": {},
   "outputs": [],
   "source": [
    "dat_test['rep_result'] = list(result)"
   ]
  },
  {
   "cell_type": "code",
   "execution_count": 85,
   "metadata": {},
   "outputs": [],
   "source": [
    "dat_test.to_excel(r'D:\\study\\parttime\\20191118\\dat_test.xlsx',index=False,sheet_name='Sheet1')"
   ]
  },
  {
   "cell_type": "code",
   "execution_count": null,
   "metadata": {},
   "outputs": [],
   "source": []
  }
 ],
 "metadata": {
  "kernelspec": {
   "display_name": "Python 3",
   "language": "python",
   "name": "python3"
  },
  "language_info": {
   "codemirror_mode": {
    "name": "ipython",
    "version": 3
   },
   "file_extension": ".py",
   "mimetype": "text/x-python",
   "name": "python",
   "nbconvert_exporter": "python",
   "pygments_lexer": "ipython3",
   "version": "3.7.1"
  }
 },
 "nbformat": 4,
 "nbformat_minor": 2
}
